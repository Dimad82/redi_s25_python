{
 "cells": [
  {
   "cell_type": "markdown",
   "id": "526250f4-ec51-4add-b3dd-1d197ef382f2",
   "metadata": {},
   "source": [
    "# Lesson 16: Object-oriented programming, classes, attributes, methods"
   ]
  },
  {
   "cell_type": "markdown",
   "id": "2a3a7f91-fb3a-4292-bd97-b85897203b3f",
   "metadata": {
    "tags": []
   },
   "source": [
    "### Classes"
   ]
  },
  {
   "cell_type": "code",
   "execution_count": 63,
   "id": "24d35f0b-deda-444b-805a-46d9093aedf0",
   "metadata": {
    "tags": []
   },
   "outputs": [],
   "source": [
    "class TestClass:\n",
    "    \n",
    "    def test_method(self):\n",
    "        print('Hello')"
   ]
  },
  {
   "cell_type": "code",
   "execution_count": 64,
   "id": "8da6b073-a9ac-40f7-9dc4-75c2f0f50df7",
   "metadata": {
    "tags": []
   },
   "outputs": [],
   "source": [
    "tc = TestClass()"
   ]
  },
  {
   "cell_type": "code",
   "execution_count": 65,
   "id": "461e6167-cc34-42d3-a56e-f8f56892c070",
   "metadata": {
    "tags": []
   },
   "outputs": [
    {
     "name": "stdout",
     "output_type": "stream",
     "text": [
      "Hello\n"
     ]
    }
   ],
   "source": [
    "tc.test_method()"
   ]
  },
  {
   "cell_type": "code",
   "execution_count": 66,
   "id": "57175688-ff71-44bd-8255-3bf027566209",
   "metadata": {
    "tags": []
   },
   "outputs": [
    {
     "data": {
      "text/plain": [
       "mappingproxy({'__module__': '__main__',\n",
       "              'test_method': <function __main__.TestClass.test_method(self)>,\n",
       "              '__dict__': <attribute '__dict__' of 'TestClass' objects>,\n",
       "              '__weakref__': <attribute '__weakref__' of 'TestClass' objects>,\n",
       "              '__doc__': None})"
      ]
     },
     "execution_count": 66,
     "metadata": {},
     "output_type": "execute_result"
    }
   ],
   "source": [
    "TestClass.__dict__"
   ]
  },
  {
   "cell_type": "code",
   "execution_count": 5,
   "id": "ad9561b6-4ef4-4e83-be0a-594648b71441",
   "metadata": {
    "collapsed": true,
    "jupyter": {
     "outputs_hidden": true
    },
    "tags": []
   },
   "outputs": [
    {
     "name": "stdout",
     "output_type": "stream",
     "text": [
      "<function TestClass.test_method at 0x7fa24ac78af0>\n"
     ]
    }
   ],
   "source": [
    "print(TestClass.test_method)"
   ]
  },
  {
   "cell_type": "markdown",
   "id": "baae7df0-f9fb-409b-b3b3-89c1b5b9f3c0",
   "metadata": {},
   "source": [
    "### Class Variables"
   ]
  },
  {
   "cell_type": "code",
   "execution_count": 45,
   "id": "e50f06ad-0d86-4e71-b328-e63f0b212aba",
   "metadata": {
    "tags": []
   },
   "outputs": [],
   "source": [
    "class Shark:\n",
    "    species = 'fish'\n",
    "    \n",
    "    def __init__(self, weight):\n",
    "        self.weight = weight"
   ]
  },
  {
   "cell_type": "code",
   "execution_count": 46,
   "id": "071d5dfd-ccca-4844-a8a2-e03e9af50f52",
   "metadata": {
    "tags": []
   },
   "outputs": [],
   "source": [
    "fish1 = Shark(10)\n",
    "fish2 = Shark(20)"
   ]
  },
  {
   "cell_type": "code",
   "execution_count": 43,
   "id": "480da1e8-e443-49fe-a984-7601a7b74560",
   "metadata": {
    "tags": []
   },
   "outputs": [],
   "source": [
    "fish1.species = 'new fish'"
   ]
  },
  {
   "cell_type": "code",
   "execution_count": 44,
   "id": "6b98fc04-9443-4e49-b224-9a6379659bf0",
   "metadata": {
    "tags": []
   },
   "outputs": [
    {
     "name": "stdout",
     "output_type": "stream",
     "text": [
      "fish1: new fish\n",
      "fish2: fish\n",
      "Shark: fish\n"
     ]
    }
   ],
   "source": [
    "print(f'fish1: {fish1.species}')\n",
    "print(f'fish2: {fish2.species}')\n",
    "print(f'Shark: {Shark.species}')"
   ]
  },
  {
   "cell_type": "code",
   "execution_count": 47,
   "id": "ed0639de-c0fa-4734-8d6c-c6b7590730e6",
   "metadata": {
    "tags": []
   },
   "outputs": [],
   "source": [
    "Shark.species = 'new fish'"
   ]
  },
  {
   "cell_type": "code",
   "execution_count": 48,
   "id": "27b437bf-eb63-4df3-93de-edaefb9a43d2",
   "metadata": {
    "tags": []
   },
   "outputs": [
    {
     "name": "stdout",
     "output_type": "stream",
     "text": [
      "fish1: new fish\n",
      "fish2: new fish\n",
      "Shark: new fish\n"
     ]
    }
   ],
   "source": [
    "print(f'fish1: {fish1.species}')\n",
    "print(f'fish2: {fish2.species}')\n",
    "print(f'Shark: {Shark.species}')"
   ]
  },
  {
   "cell_type": "code",
   "execution_count": null,
   "id": "6209c45d-c7f0-40ac-8b87-a01ab55dc8a8",
   "metadata": {
    "collapsed": true,
    "jupyter": {
     "outputs_hidden": true
    }
   },
   "outputs": [],
   "source": []
  },
  {
   "cell_type": "code",
   "execution_count": 50,
   "id": "602d325f-4902-4b6c-b9d3-19ca3d8ed718",
   "metadata": {
    "tags": []
   },
   "outputs": [],
   "source": [
    "class Dog:\n",
    "\n",
    "    tricks = []\n",
    "\n",
    "    def __init__(self, name):\n",
    "        self.name = name\n",
    "\n",
    "    def add_trick(self, trick):\n",
    "        self.tricks.append(trick)"
   ]
  },
  {
   "cell_type": "code",
   "execution_count": 51,
   "id": "eb039149-d78c-49b6-95c9-3c10826ccd27",
   "metadata": {
    "tags": []
   },
   "outputs": [
    {
     "data": {
      "text/plain": [
       "['roll over', 'play dead']"
      ]
     },
     "execution_count": 51,
     "metadata": {},
     "output_type": "execute_result"
    }
   ],
   "source": [
    "dog_fido = Dog('Fido')\n",
    "dog_buddy = Dog('Buddy')\n",
    "\n",
    "dog_fido.add_trick('roll over')\n",
    "dog_buddy.add_trick('play dead')\n",
    "\n",
    "dog_fido.tricks"
   ]
  },
  {
   "cell_type": "code",
   "execution_count": 52,
   "id": "56e74edd-a960-4aed-89fc-49b6d635e01a",
   "metadata": {
    "tags": []
   },
   "outputs": [
    {
     "data": {
      "text/plain": [
       "['roll over', 'play dead']"
      ]
     },
     "execution_count": 52,
     "metadata": {},
     "output_type": "execute_result"
    }
   ],
   "source": [
    "Dog.tricks"
   ]
  },
  {
   "cell_type": "code",
   "execution_count": 53,
   "id": "9e29eed2-ba5f-43bd-9ee0-a17e974aaa5b",
   "metadata": {
    "tags": []
   },
   "outputs": [],
   "source": [
    "class Dog:\n",
    "\n",
    "    def __init__(self, name):\n",
    "        self.name = name\n",
    "        self.tricks = []\n",
    "\n",
    "    def add_trick(self, trick):\n",
    "        self.tricks.append(trick)"
   ]
  },
  {
   "cell_type": "markdown",
   "id": "ec7cff68-2369-4478-be62-02732a68fccf",
   "metadata": {},
   "source": [
    "### Methods"
   ]
  },
  {
   "cell_type": "code",
   "execution_count": 58,
   "id": "3559cd9b-b489-401b-a36c-24fa33f53042",
   "metadata": {
    "tags": []
   },
   "outputs": [],
   "source": [
    "class Rectangle:\n",
    "\n",
    "    def __init__(self, length, width):\n",
    "        self.length = length\n",
    "        self.width = width\n",
    "        self.area = self._calculate_area()\n",
    "\n",
    "    def _calculate_area(self):\n",
    "        return self.length * self.width\n"
   ]
  },
  {
   "cell_type": "code",
   "execution_count": 59,
   "id": "3463b585-5050-4d24-9cb6-772cc24cbfca",
   "metadata": {
    "tags": []
   },
   "outputs": [],
   "source": [
    "my_square = Rectangle(2,4)"
   ]
  },
  {
   "cell_type": "code",
   "execution_count": 60,
   "id": "4fb43730-101b-44fa-8194-30ec0e813704",
   "metadata": {
    "tags": []
   },
   "outputs": [
    {
     "data": {
      "text/plain": [
       "8"
      ]
     },
     "execution_count": 60,
     "metadata": {},
     "output_type": "execute_result"
    }
   ],
   "source": [
    "my_square.area"
   ]
  },
  {
   "cell_type": "markdown",
   "id": "57a1b7f0-2d36-4b81-9c5a-0fe3c856f2b7",
   "metadata": {},
   "source": [
    "### Self"
   ]
  },
  {
   "cell_type": "code",
   "execution_count": 61,
   "id": "730fd7a4-1b40-4036-90c2-19a7ed347a7d",
   "metadata": {
    "tags": []
   },
   "outputs": [
    {
     "data": {
      "text/plain": [
       "8"
      ]
     },
     "execution_count": 61,
     "metadata": {},
     "output_type": "execute_result"
    }
   ],
   "source": [
    "my_square._calculate_area()"
   ]
  },
  {
   "cell_type": "code",
   "execution_count": 62,
   "id": "b45e9eec-bc92-47a9-b5f6-366cf6e5cc64",
   "metadata": {
    "tags": []
   },
   "outputs": [
    {
     "data": {
      "text/plain": [
       "8"
      ]
     },
     "execution_count": 62,
     "metadata": {},
     "output_type": "execute_result"
    }
   ],
   "source": [
    "Rectangle._calculate_area(my_square)"
   ]
  },
  {
   "cell_type": "markdown",
   "id": "59ee2727-1eb4-4c29-bde0-7a5341ada1f4",
   "metadata": {},
   "source": [
    "### Private variables"
   ]
  },
  {
   "cell_type": "code",
   "execution_count": 84,
   "id": "5d3cabfa-2d9d-458a-a03a-55cb916700a1",
   "metadata": {
    "tags": []
   },
   "outputs": [],
   "source": [
    "class Foo:\n",
    "\n",
    "    __count = 0\n",
    "\n",
    "    def __init__(self, name):\n",
    "        Foo.__count += 1 #self.__count\n",
    "        self._name = name\n",
    "\n",
    "    def say_hello(self):\n",
    "        print(f'Hello World, I am {self._name}!')\n",
    "\n",
    "    def get_count(self):\n",
    "        return self.__count"
   ]
  },
  {
   "cell_type": "code",
   "execution_count": 85,
   "id": "97568f2e-8eb4-48b3-bc9d-161db74beeac",
   "metadata": {
    "tags": []
   },
   "outputs": [],
   "source": [
    "f1 = Foo('Vasya')\n",
    "f2 = Foo('Petya')"
   ]
  },
  {
   "cell_type": "code",
   "execution_count": 86,
   "id": "22069fde-69aa-4b93-8286-0f3e04b8bd6a",
   "metadata": {
    "tags": []
   },
   "outputs": [
    {
     "ename": "AttributeError",
     "evalue": "'Foo' object has no attribute '__count'",
     "output_type": "error",
     "traceback": [
      "\u001b[0;31m---------------------------------------------------------------------------\u001b[0m",
      "\u001b[0;31mAttributeError\u001b[0m                            Traceback (most recent call last)",
      "\u001b[0;32m/var/folders/14/ygngkvsd05v_xvhy_67sf_600000gn/T/ipykernel_71950/4264597555.py\u001b[0m in \u001b[0;36m<module>\u001b[0;34m\u001b[0m\n\u001b[0;32m----> 1\u001b[0;31m \u001b[0mf1\u001b[0m\u001b[0;34m.\u001b[0m\u001b[0m__count\u001b[0m\u001b[0;34m\u001b[0m\u001b[0;34m\u001b[0m\u001b[0m\n\u001b[0m",
      "\u001b[0;31mAttributeError\u001b[0m: 'Foo' object has no attribute '__count'"
     ]
    }
   ],
   "source": [
    "f1.__count"
   ]
  },
  {
   "cell_type": "code",
   "execution_count": 24,
   "id": "001dc205-52bf-4615-b7c7-7c36102642b8",
   "metadata": {
    "collapsed": true,
    "jupyter": {
     "outputs_hidden": true
    },
    "tags": []
   },
   "outputs": [
    {
     "data": {
      "text/plain": [
       "2"
      ]
     },
     "execution_count": 24,
     "metadata": {},
     "output_type": "execute_result"
    }
   ],
   "source": [
    "f1.get_count()"
   ]
  },
  {
   "cell_type": "code",
   "execution_count": 25,
   "id": "ec9e3155-cd82-4b21-8f2b-de3f9a5d7346",
   "metadata": {
    "collapsed": true,
    "jupyter": {
     "outputs_hidden": true
    },
    "tags": []
   },
   "outputs": [
    {
     "data": {
      "text/plain": [
       "mappingproxy({'__module__': '__main__',\n",
       "              '_Foo__count': 2,\n",
       "              '__init__': <function __main__.Foo.__init__(self, name)>,\n",
       "              'say_hello': <function __main__.Foo.say_hello(self)>,\n",
       "              'get_count': <function __main__.Foo.get_count(self)>,\n",
       "              '__dict__': <attribute '__dict__' of 'Foo' objects>,\n",
       "              '__weakref__': <attribute '__weakref__' of 'Foo' objects>,\n",
       "              '__doc__': None})"
      ]
     },
     "execution_count": 25,
     "metadata": {},
     "output_type": "execute_result"
    }
   ],
   "source": [
    "Foo.__dict__"
   ]
  },
  {
   "cell_type": "code",
   "execution_count": 26,
   "id": "04cb9d56-ff3f-4b46-89e9-f06c700085ec",
   "metadata": {
    "collapsed": true,
    "jupyter": {
     "outputs_hidden": true
    },
    "tags": []
   },
   "outputs": [
    {
     "data": {
      "text/plain": [
       "{'_name': 'Vasya'}"
      ]
     },
     "execution_count": 26,
     "metadata": {},
     "output_type": "execute_result"
    }
   ],
   "source": [
    "f1.__dict__"
   ]
  },
  {
   "cell_type": "code",
   "execution_count": 27,
   "id": "24fdd860-f19c-4f5e-abfa-fa938fe5da80",
   "metadata": {
    "collapsed": true,
    "jupyter": {
     "outputs_hidden": true
    },
    "tags": []
   },
   "outputs": [
    {
     "name": "stdout",
     "output_type": "stream",
     "text": [
      "Hello World, I am Vasya!\n"
     ]
    }
   ],
   "source": [
    "f1.say_hello()"
   ]
  },
  {
   "cell_type": "code",
   "execution_count": 28,
   "id": "b55bb0f3-d5f0-4d38-b14c-3a1302349592",
   "metadata": {
    "collapsed": true,
    "jupyter": {
     "outputs_hidden": true
    },
    "tags": []
   },
   "outputs": [
    {
     "ename": "NameError",
     "evalue": "name 'foo' is not defined",
     "output_type": "error",
     "traceback": [
      "\u001b[0;31m---------------------------------------------------------------------------\u001b[0m",
      "\u001b[0;31mNameError\u001b[0m                                 Traceback (most recent call last)",
      "\u001b[0;32m/var/folders/14/ygngkvsd05v_xvhy_67sf_600000gn/T/ipykernel_71950/1986477972.py\u001b[0m in \u001b[0;36m<module>\u001b[0;34m\u001b[0m\n\u001b[0;32m----> 1\u001b[0;31m \u001b[0mFoo\u001b[0m\u001b[0;34m.\u001b[0m\u001b[0msay_hello\u001b[0m\u001b[0;34m(\u001b[0m\u001b[0mfoo\u001b[0m\u001b[0;34m)\u001b[0m\u001b[0;34m\u001b[0m\u001b[0;34m\u001b[0m\u001b[0m\n\u001b[0m",
      "\u001b[0;31mNameError\u001b[0m: name 'foo' is not defined"
     ]
    }
   ],
   "source": [
    "Foo.say_hello(foo)"
   ]
  },
  {
   "cell_type": "markdown",
   "id": "c4c610c5-4ee9-48ec-9b01-a903bfe4042b",
   "metadata": {},
   "source": [
    "### Special Methods"
   ]
  },
  {
   "cell_type": "code",
   "execution_count": 94,
   "id": "68f9d214-a677-416e-9484-546dc112ebe3",
   "metadata": {
    "tags": []
   },
   "outputs": [],
   "source": [
    "class Dog:\n",
    "    def __init__(self, name, age, breed):\n",
    "        self.name = name\n",
    "        self.age = age\n",
    "        self.breed = breed\n",
    "\n",
    "    def bark(self):\n",
    "        print(\"wuff-wuff\")\n",
    "\n",
    "    def __repr__(self):\n",
    "        return f\"{self.name}, {self.age} years old, {self.breed}\""
   ]
  },
  {
   "cell_type": "code",
   "execution_count": 95,
   "id": "741c5d07-1734-43e2-a60a-7f0359d19a96",
   "metadata": {
    "tags": []
   },
   "outputs": [
    {
     "name": "stdout",
     "output_type": "stream",
     "text": [
      "wuff-wuff\n"
     ]
    }
   ],
   "source": [
    "benny = Dog(\"Benny\", 2, \"Pug\")\n",
    "benny.bark()"
   ]
  },
  {
   "cell_type": "code",
   "execution_count": 96,
   "id": "303e5bb5-5388-4c3d-81c1-bbbc16337342",
   "metadata": {
    "tags": []
   },
   "outputs": [
    {
     "name": "stdout",
     "output_type": "stream",
     "text": [
      "Benny, 2 years old, Pug\n"
     ]
    }
   ],
   "source": [
    "print(benny)"
   ]
  },
  {
   "cell_type": "code",
   "execution_count": 97,
   "id": "ec04a036-979a-407e-bd13-3b0214167c4a",
   "metadata": {
    "tags": []
   },
   "outputs": [
    {
     "data": {
      "text/plain": [
       "Benny, 2 years old, Pug"
      ]
     },
     "execution_count": 97,
     "metadata": {},
     "output_type": "execute_result"
    }
   ],
   "source": [
    "benny"
   ]
  },
  {
   "cell_type": "markdown",
   "id": "bb0069cd-2c17-47bf-8db0-1b99e89aca5f",
   "metadata": {},
   "source": [
    "### Exercise: Cirсle"
   ]
  },
  {
   "cell_type": "code",
   "execution_count": 33,
   "id": "3fccaa08-d4c2-4a5e-a98b-47b6503a6da7",
   "metadata": {
    "collapsed": true,
    "jupyter": {
     "outputs_hidden": true
    },
    "tags": []
   },
   "outputs": [],
   "source": [
    "from math import pi\n",
    "\n",
    "class Circle:\n",
    "    def __init__(self, radius):\n",
    "        self.radius = radius\n",
    "        self.area = radius**2 * pi"
   ]
  },
  {
   "cell_type": "code",
   "execution_count": 34,
   "id": "92af707d-d3d6-4a04-b2ae-84a2620d9d59",
   "metadata": {
    "collapsed": true,
    "jupyter": {
     "outputs_hidden": true
    },
    "tags": []
   },
   "outputs": [
    {
     "data": {
      "text/plain": [
       "31415.926535897932"
      ]
     },
     "execution_count": 34,
     "metadata": {},
     "output_type": "execute_result"
    }
   ],
   "source": [
    "circle = Circle(100)\n",
    "\n",
    "circle.area"
   ]
  },
  {
   "cell_type": "code",
   "execution_count": 35,
   "id": "dab9e866-7988-48fc-910b-5504dc59badc",
   "metadata": {
    "collapsed": true,
    "jupyter": {
     "outputs_hidden": true
    },
    "tags": []
   },
   "outputs": [],
   "source": [
    "class Circle:\n",
    "    def __init__(self, radius):\n",
    "        self.radius = radius\n",
    "    \n",
    "    @property\n",
    "    def area(self):\n",
    "        return self.radius**2 * pi\n",
    "    \n",
    "    @property\n",
    "    def lenght(self):\n",
    "        return 2 * self.radius * pi"
   ]
  },
  {
   "cell_type": "code",
   "execution_count": 36,
   "id": "8af723b2-c8e4-43f1-a807-a8fbd1ebb3e7",
   "metadata": {
    "collapsed": true,
    "jupyter": {
     "outputs_hidden": true
    },
    "tags": []
   },
   "outputs": [
    {
     "data": {
      "text/plain": [
       "31415.926535897932"
      ]
     },
     "execution_count": 36,
     "metadata": {},
     "output_type": "execute_result"
    }
   ],
   "source": [
    "circle = Circle(100)\n",
    "\n",
    "circle.area"
   ]
  },
  {
   "cell_type": "code",
   "execution_count": null,
   "id": "3a3b92f7-1e61-4903-89e3-80e1a2277d9f",
   "metadata": {
    "collapsed": true,
    "jupyter": {
     "outputs_hidden": true
    },
    "tags": []
   },
   "outputs": [],
   "source": []
  },
  {
   "cell_type": "markdown",
   "id": "eca257cc-4c81-4723-8c85-1bbda5e80dd4",
   "metadata": {
    "tags": []
   },
   "source": [
    "### Exercise: Fraction"
   ]
  },
  {
   "cell_type": "code",
   "execution_count": 37,
   "id": "877e5de0-cb61-4215-8f9b-c08780714510",
   "metadata": {
    "collapsed": true,
    "jupyter": {
     "outputs_hidden": true
    },
    "tags": []
   },
   "outputs": [],
   "source": [
    "from math import gcd\n",
    "\n",
    "class MyFraction:\n",
    "    def __init__(self, nom, denom):\n",
    "        if denom == 0: raise ValueError('Zero division')\n",
    "        \n",
    "        self.nom = nom\n",
    "        self.denom = denom\n",
    "        self.simlify()\n",
    "        \n",
    "    def simlify(self):\n",
    "        g = gcd(self.nom, self.denom)\n",
    "        self.nom, self.denom = self.nom // g, self.denom // g\n",
    "        \n",
    "    def __mul__(self, other):\n",
    "        return MyFraction(self.nom * other.nom, self.denom * other.denom)\n",
    "        \n",
    "    def __repr__(self):\n",
    "        return f'{self.nom}' if self.denom == 1 else f'{self.nom}/{self.denom}'"
   ]
  },
  {
   "cell_type": "code",
   "execution_count": 38,
   "id": "f0a0c3ef-3689-4d44-b146-a3792e4dffbd",
   "metadata": {
    "collapsed": true,
    "jupyter": {
     "outputs_hidden": true
    },
    "tags": []
   },
   "outputs": [],
   "source": [
    "fr1 = MyFraction(2,3)\n",
    "fr2 = MyFraction(6,8)\n",
    "\n",
    "fr = fr1 * fr2"
   ]
  },
  {
   "cell_type": "code",
   "execution_count": 39,
   "id": "75fe0e75-cec5-4f8e-ac7c-2af0b28b5ae7",
   "metadata": {
    "collapsed": true,
    "jupyter": {
     "outputs_hidden": true
    },
    "tags": []
   },
   "outputs": [
    {
     "name": "stdout",
     "output_type": "stream",
     "text": [
      "1/2\n"
     ]
    }
   ],
   "source": [
    "print(fr)"
   ]
  },
  {
   "cell_type": "markdown",
   "id": "bb25d17d-b719-4e09-9b95-f0bbde49d3df",
   "metadata": {},
   "source": [
    "### Fractions: another version"
   ]
  },
  {
   "cell_type": "code",
   "execution_count": 40,
   "id": "67f4b65c-a4a9-499a-8d5d-8e4c42442f79",
   "metadata": {
    "collapsed": true,
    "jupyter": {
     "outputs_hidden": true
    },
    "tags": []
   },
   "outputs": [],
   "source": [
    "from math import gcd\n",
    "\n",
    "class TheBestFractionEver():\n",
    "    \n",
    "    def __init__(self, num, den=1):\n",
    "        self.num = num\n",
    "        self.den = den\n",
    "        \n",
    "    def __str__(self):\n",
    "        return f'{self.num}/{self.den}'\n",
    "    \n",
    "    def __add__(self, another_fraction):\n",
    "        if isinstance(another_fraction, int):\n",
    "            another_fraction = TheBestFractionEver(another_fraction)\n",
    "        num = self.num * another_fraction.den + self.den * another_fraction.num\n",
    "        den = self.den * another_fraction.den\n",
    "        return TheBestFractionEver(num, den)\n",
    "    \n",
    "    def __mul__(self, another_fraction):\n",
    "        if isinstance(another_fraction, int):\n",
    "            another_fraction = TheBestFractionEver(another_fraction)\n",
    "        num = self.num * another_fraction.num\n",
    "        den = self.den * another_fraction.den\n",
    "        return TheBestFractionEver(num, den)"
   ]
  },
  {
   "cell_type": "code",
   "execution_count": null,
   "id": "6572791a-3f36-477f-8905-1617a198a6b2",
   "metadata": {
    "collapsed": true,
    "jupyter": {
     "outputs_hidden": true
    },
    "tags": []
   },
   "outputs": [],
   "source": []
  },
  {
   "cell_type": "code",
   "execution_count": null,
   "id": "0a29b035-c8d9-4bb6-a0e8-bf6321b5181a",
   "metadata": {
    "collapsed": true,
    "jupyter": {
     "outputs_hidden": true
    },
    "tags": []
   },
   "outputs": [],
   "source": [
    "fraction1 = TheBestFractionEver(2,4)"
   ]
  },
  {
   "cell_type": "code",
   "execution_count": null,
   "id": "484c40c9-2896-43b4-808c-49ec126b8eac",
   "metadata": {
    "collapsed": true,
    "jupyter": {
     "outputs_hidden": true
    },
    "tags": []
   },
   "outputs": [],
   "source": [
    "fraction2 = TheBestFractionEver(1,2)"
   ]
  },
  {
   "cell_type": "code",
   "execution_count": null,
   "id": "1f6fd5dd-82d7-4c7d-a96d-b89e66597aae",
   "metadata": {
    "collapsed": true,
    "jupyter": {
     "outputs_hidden": true
    },
    "tags": []
   },
   "outputs": [],
   "source": [
    "print(fraction1 + fraction2)"
   ]
  },
  {
   "cell_type": "code",
   "execution_count": null,
   "id": "e1aad323-a8e1-4559-844c-300419771a10",
   "metadata": {
    "collapsed": true,
    "jupyter": {
     "outputs_hidden": true
    },
    "tags": []
   },
   "outputs": [],
   "source": [
    "print(fraction1 * 3)"
   ]
  },
  {
   "cell_type": "code",
   "execution_count": null,
   "id": "9ecfd518-55c9-4f21-9a4a-36eaf60c7bea",
   "metadata": {
    "collapsed": true,
    "jupyter": {
     "outputs_hidden": true
    },
    "tags": []
   },
   "outputs": [],
   "source": [
    "from fractions import Fraction"
   ]
  },
  {
   "cell_type": "code",
   "execution_count": null,
   "id": "db1ff04f-963b-4698-9888-ff486bb3a5f2",
   "metadata": {
    "collapsed": true,
    "jupyter": {
     "outputs_hidden": true
    },
    "tags": []
   },
   "outputs": [],
   "source": []
  },
  {
   "cell_type": "code",
   "execution_count": null,
   "id": "4ad7e0e9-da0d-4cf3-961f-a8600793ef00",
   "metadata": {},
   "outputs": [],
   "source": []
  },
  {
   "cell_type": "code",
   "execution_count": null,
   "id": "cb46b4e9-bee5-463f-bce8-95525a59f7e8",
   "metadata": {},
   "outputs": [],
   "source": [
    "from math import gcd\n",
    "\n",
    "class Fraction:\n",
    "    def __init__(self, nom, den):\n",
    "        self.nom = nom\n",
    "        self.den = den\n",
    "        self.simlify()\n",
    "        \n",
    "    def simlify(self):\n",
    "        g = gcd(self.nom, self.den)\n",
    "        self.nom = self.nom // g\n",
    "        self.den = self.den // g\n",
    "        \n",
    "    def __mul__(self, another_frac):\n",
    "        n = self.nom * another_frac.nom\n",
    "        d = self.den * another_frac.den\n",
    "        return Fraction(n,d)\n",
    "    \n",
    "    def __add__(self, another_frac):\n",
    "        n = self.nom * another_frac.den + another_frac.nom * self.den\n",
    "        d = self.den * another_frac.den\n",
    "        return Fraction(n,d)\n",
    "    \n",
    "    def __lt__(self, another_frac):\n",
    "        return self.nom * another_frac.den < another_frac.nom * self.den\n",
    "        \n",
    "    def __repr__(self):\n",
    "        return f'{self.nom}/{self.den}' if self.den != 1 else f'{self.nom}'\n"
   ]
  },
  {
   "cell_type": "code",
   "execution_count": 159,
   "id": "9f860a57-aaa4-4a8e-98e5-3ad57f51a668",
   "metadata": {},
   "outputs": [],
   "source": [
    "frac1 = Fraction(1,3)\n",
    "frac2 = Fraction(1,4)"
   ]
  },
  {
   "cell_type": "code",
   "execution_count": 160,
   "id": "3eac0385-5961-45bd-9cd3-a21e194edccd",
   "metadata": {},
   "outputs": [
    {
     "data": {
      "text/plain": [
       "1/3"
      ]
     },
     "execution_count": 160,
     "metadata": {},
     "output_type": "execute_result"
    }
   ],
   "source": [
    "frac1"
   ]
  },
  {
   "cell_type": "code",
   "execution_count": 161,
   "id": "ec216198-05b5-45cb-b206-81d737f16b88",
   "metadata": {},
   "outputs": [
    {
     "data": {
      "text/plain": [
       "1/4"
      ]
     },
     "execution_count": 161,
     "metadata": {},
     "output_type": "execute_result"
    }
   ],
   "source": [
    "frac2"
   ]
  },
  {
   "cell_type": "code",
   "execution_count": 162,
   "id": "929f8466-2fd9-4df7-8a91-dea9d116ec79",
   "metadata": {},
   "outputs": [
    {
     "data": {
      "text/plain": [
       "1/12"
      ]
     },
     "execution_count": 162,
     "metadata": {},
     "output_type": "execute_result"
    }
   ],
   "source": [
    "frac1 * frac2"
   ]
  },
  {
   "cell_type": "code",
   "execution_count": 163,
   "id": "0bf30430-666c-4ec4-abf7-90d025c9907e",
   "metadata": {},
   "outputs": [
    {
     "data": {
      "text/plain": [
       "False"
      ]
     },
     "execution_count": 163,
     "metadata": {},
     "output_type": "execute_result"
    }
   ],
   "source": [
    "frac1 == frac2"
   ]
  },
  {
   "cell_type": "code",
   "execution_count": 179,
   "id": "c7d21016-dcef-48aa-88d6-391c60bfd88c",
   "metadata": {},
   "outputs": [],
   "source": [
    "from math import pi\n",
    "\n",
    "class Circle:\n",
    "    def __init__(self, radius):\n",
    "        self.radius = radius\n",
    "        \n",
    "    def area(self):\n",
    "        return pi * self.radius**2\n",
    "    \n",
    "    def __str__(self):\n",
    "        return f'The circle has radius = {self.radius} and area = {round(self.area(), 2)}'"
   ]
  },
  {
   "cell_type": "code",
   "execution_count": 180,
   "id": "78291896-3471-4b90-9531-4d2be7dff015",
   "metadata": {},
   "outputs": [],
   "source": [
    "c = Circle(10)"
   ]
  },
  {
   "cell_type": "code",
   "execution_count": 181,
   "id": "1c120bd8-8ac8-444c-810d-e70d3569f01c",
   "metadata": {},
   "outputs": [
    {
     "name": "stdout",
     "output_type": "stream",
     "text": [
      "The circle has radius = 10 and area = 314.16\n"
     ]
    }
   ],
   "source": [
    "print(c)"
   ]
  },
  {
   "cell_type": "code",
   "execution_count": null,
   "id": "53d4923b-fd09-4f9d-b12c-e6dffb8dca1b",
   "metadata": {},
   "outputs": [],
   "source": []
  },
  {
   "cell_type": "code",
   "execution_count": null,
   "id": "82d44a4a-34f4-493c-b939-7b699fef3df8",
   "metadata": {},
   "outputs": [],
   "source": []
  }
 ],
 "metadata": {
  "kernelspec": {
   "display_name": "Python 3 (ipykernel)",
   "language": "python",
   "name": "python3"
  },
  "language_info": {
   "codemirror_mode": {
    "name": "ipython",
    "version": 3
   },
   "file_extension": ".py",
   "mimetype": "text/x-python",
   "name": "python",
   "nbconvert_exporter": "python",
   "pygments_lexer": "ipython3",
   "version": "3.9.7"
  }
 },
 "nbformat": 4,
 "nbformat_minor": 5
}
