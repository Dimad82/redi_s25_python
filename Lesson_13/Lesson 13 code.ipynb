{
 "cells": [
  {
   "cell_type": "markdown",
   "id": "526250f4-ec51-4add-b3dd-1d197ef382f2",
   "metadata": {
    "tags": []
   },
   "source": [
    "# Lesson 13: Object-oriented programming"
   ]
  },
  {
   "cell_type": "markdown",
   "id": "e934e2ae-6d91-46cd-aa79-4abfdd6f5ca7",
   "metadata": {},
   "source": [
    "### Everything is an Object ?"
   ]
  },
  {
   "cell_type": "code",
   "execution_count": 5,
   "id": "2aacd214-56cd-47d4-85a3-36d85dffa8d1",
   "metadata": {},
   "outputs": [],
   "source": [
    "d1 = {'key1': 1}\n",
    "d2 = {'key2': 1}"
   ]
  },
  {
   "cell_type": "code",
   "execution_count": 46,
   "id": "f3651d4b-0928-42d1-9e85-5d4d0b9ee19a",
   "metadata": {},
   "outputs": [
    {
     "name": "stdout",
     "output_type": "stream",
     "text": [
      "{'key1': 1}\n"
     ]
    }
   ],
   "source": [
    "print(d1)"
   ]
  },
  {
   "cell_type": "code",
   "execution_count": 3,
   "id": "16788494-cf9d-4012-8484-f778fff90e8a",
   "metadata": {},
   "outputs": [],
   "source": [
    "a1 = [1,2,]\n",
    "a2 = [3,4]"
   ]
  },
  {
   "cell_type": "code",
   "execution_count": 5,
   "id": "c0a4114d-cb00-4247-b24d-71704fd4227c",
   "metadata": {},
   "outputs": [
    {
     "data": {
      "text/plain": [
       "[1, 2, 3, 4]"
      ]
     },
     "execution_count": 5,
     "metadata": {},
     "output_type": "execute_result"
    }
   ],
   "source": [
    "a1 + a2"
   ]
  },
  {
   "cell_type": "code",
   "execution_count": 7,
   "id": "776ac227-99ba-42c0-b5c4-5c4252418782",
   "metadata": {
    "tags": []
   },
   "outputs": [],
   "source": [
    "x = 'dsfgsd'"
   ]
  },
  {
   "cell_type": "code",
   "execution_count": 10,
   "id": "a2f6d2c9-fd91-4321-954c-300db8fdf4f0",
   "metadata": {},
   "outputs": [
    {
     "data": {
      "text/plain": [
       "'DSFGSD'"
      ]
     },
     "execution_count": 10,
     "metadata": {},
     "output_type": "execute_result"
    }
   ],
   "source": [
    "x.upper()"
   ]
  },
  {
   "cell_type": "code",
   "execution_count": 6,
   "id": "91df1ec5-73ba-4df3-b56e-fde74e5b7e1a",
   "metadata": {
    "tags": []
   },
   "outputs": [
    {
     "data": {
      "text/plain": [
       "dict"
      ]
     },
     "execution_count": 6,
     "metadata": {},
     "output_type": "execute_result"
    }
   ],
   "source": [
    "type(d1)"
   ]
  },
  {
   "cell_type": "code",
   "execution_count": 12,
   "id": "6dc69852-2daf-43b1-a532-bcdb0ead7a51",
   "metadata": {
    "tags": []
   },
   "outputs": [
    {
     "data": {
      "text/plain": [
       "False"
      ]
     },
     "execution_count": 12,
     "metadata": {},
     "output_type": "execute_result"
    }
   ],
   "source": [
    "isinstance(x, int)"
   ]
  },
  {
   "cell_type": "code",
   "execution_count": 44,
   "id": "14fca2d0-c961-4d8a-9f86-f77ffc98eb23",
   "metadata": {
    "tags": []
   },
   "outputs": [],
   "source": [
    "a = [1,2,3]"
   ]
  },
  {
   "cell_type": "code",
   "execution_count": 45,
   "id": "760c4353-a886-4379-aef3-18036614b795",
   "metadata": {
    "tags": []
   },
   "outputs": [
    {
     "name": "stdout",
     "output_type": "stream",
     "text": [
      "[1, 2, 3]\n"
     ]
    }
   ],
   "source": [
    "print(a)"
   ]
  },
  {
   "cell_type": "markdown",
   "id": "2a3a7f91-fb3a-4292-bd97-b85897203b3f",
   "metadata": {
    "tags": []
   },
   "source": [
    "### Class Examples"
   ]
  },
  {
   "cell_type": "code",
   "execution_count": 25,
   "id": "e50f06ad-0d86-4e71-b328-e63f0b212aba",
   "metadata": {
    "tags": []
   },
   "outputs": [],
   "source": [
    "class Dog:\n",
    "    name = \"Marley\"\n",
    "    age = 5\n",
    "    breed = \"Golden Retriever\""
   ]
  },
  {
   "cell_type": "code",
   "execution_count": 26,
   "id": "071d5dfd-ccca-4844-a8a2-e03e9af50f52",
   "metadata": {
    "tags": []
   },
   "outputs": [],
   "source": [
    "marley2 = Dog()"
   ]
  },
  {
   "cell_type": "code",
   "execution_count": 27,
   "id": "480da1e8-e443-49fe-a984-7601a7b74560",
   "metadata": {
    "tags": []
   },
   "outputs": [
    {
     "data": {
      "text/plain": [
       "'Marley'"
      ]
     },
     "execution_count": 27,
     "metadata": {},
     "output_type": "execute_result"
    }
   ],
   "source": [
    "marley.name"
   ]
  },
  {
   "cell_type": "code",
   "execution_count": 28,
   "id": "ed0639de-c0fa-4734-8d6c-c6b7590730e6",
   "metadata": {
    "tags": []
   },
   "outputs": [],
   "source": [
    "not_marley = Dog()"
   ]
  },
  {
   "cell_type": "code",
   "execution_count": 29,
   "id": "26034ed6-c421-4bb6-8d80-10efe46d00e1",
   "metadata": {},
   "outputs": [],
   "source": [
    "not_marley.name = 'not_marley'"
   ]
  },
  {
   "cell_type": "code",
   "execution_count": 32,
   "id": "dd23b9fd-96d9-4953-8100-d9b790361d68",
   "metadata": {},
   "outputs": [
    {
     "data": {
      "text/plain": [
       "'Marley'"
      ]
     },
     "execution_count": 32,
     "metadata": {},
     "output_type": "execute_result"
    }
   ],
   "source": [
    "marley2.name"
   ]
  },
  {
   "cell_type": "code",
   "execution_count": 29,
   "id": "602d325f-4902-4b6c-b9d3-19ca3d8ed718",
   "metadata": {
    "tags": []
   },
   "outputs": [],
   "source": [
    "class Dog:\n",
    "    def __init__(self, name, age, breed):\n",
    "        self.name = name\n",
    "        self.age = age\n",
    "        self.breed = breed\n",
    "        \n",
    "    def bark(self):\n",
    "        print(\"wuff-wuff\")\n",
    "        \n",
    "    def __str__(self):\n",
    "        return f\"{self.name}, {self.age} years old, {self.breed}\""
   ]
  },
  {
   "cell_type": "code",
   "execution_count": 30,
   "id": "eb039149-d78c-49b6-95c9-3c10826ccd27",
   "metadata": {
    "tags": []
   },
   "outputs": [],
   "source": [
    "marley = Dog(\"Marley\", 5, \"Golden Retriever\")\n",
    "benny = Dog(\"Benny\", 2, \"Corgi\")"
   ]
  },
  {
   "cell_type": "code",
   "execution_count": 31,
   "id": "56e74edd-a960-4aed-89fc-49b6d635e01a",
   "metadata": {
    "tags": []
   },
   "outputs": [
    {
     "name": "stdout",
     "output_type": "stream",
     "text": [
      "Marley, 5 years old, Golden Retriever\n"
     ]
    }
   ],
   "source": [
    "print(marley)"
   ]
  },
  {
   "cell_type": "code",
   "execution_count": 15,
   "id": "9e29eed2-ba5f-43bd-9ee0-a17e974aaa5b",
   "metadata": {
    "tags": []
   },
   "outputs": [
    {
     "data": {
      "text/plain": [
       "'Kira'"
      ]
     },
     "execution_count": 15,
     "metadata": {},
     "output_type": "execute_result"
    }
   ],
   "source": [
    "benny.name"
   ]
  },
  {
   "cell_type": "code",
   "execution_count": 14,
   "id": "f4fd4b59-e87f-4775-84cb-53966c1a53f2",
   "metadata": {},
   "outputs": [],
   "source": [
    "benny.name = 'Kira'"
   ]
  },
  {
   "cell_type": "code",
   "execution_count": 16,
   "id": "2613bb1b-30e1-48d4-9b0c-239daa78d208",
   "metadata": {},
   "outputs": [
    {
     "name": "stdout",
     "output_type": "stream",
     "text": [
      "wuff-wuff\n"
     ]
    }
   ],
   "source": [
    "benny.bark()"
   ]
  },
  {
   "cell_type": "code",
   "execution_count": 38,
   "id": "8f9692bc-125d-42f4-8c47-9312378aba0b",
   "metadata": {
    "tags": []
   },
   "outputs": [
    {
     "data": {
      "text/plain": [
       "True"
      ]
     },
     "execution_count": 38,
     "metadata": {},
     "output_type": "execute_result"
    }
   ],
   "source": [
    "isinstance(benny, Dog)"
   ]
  },
  {
   "cell_type": "code",
   "execution_count": 147,
   "id": "6d43fb53-195a-479d-8b00-1a6dfe15b196",
   "metadata": {},
   "outputs": [],
   "source": [
    "class Cat:\n",
    "    def __init__(self, mood:str, hungry:int, energy:int):\n",
    "        self.mood = mood\n",
    "        self.hungry = hungry\n",
    "        self.energy = energy\n",
    "    \n",
    "    def meow(self):\n",
    "        print(\"meow!\")\n",
    "\n",
    "    def Sleep(self):\n",
    "        self.hungry = self.hungry + 1\n",
    "        self.energy = self.energy + 1\n",
    "\n",
    "    def Play(self):\n",
    "        self.mood = self.mood + 1\n",
    "        self.energy =self.energy - 1\n",
    "        self.meow()\n",
    "\n",
    "    def Feed(self):\n",
    "        self.hungry = self.hungry - 1\n",
    "        self.mood = self.mood + 1\n",
    "        self.meow()"
   ]
  },
  {
   "cell_type": "code",
   "execution_count": 150,
   "id": "cddbe7b5-fc81-45ba-93fd-b1cbe1a340c8",
   "metadata": {},
   "outputs": [],
   "source": [
    "my_cat = Cat(0,0,0)"
   ]
  },
  {
   "cell_type": "code",
   "execution_count": 151,
   "id": "8c702bf5-6a8b-44e8-9c58-b5d5a72976c9",
   "metadata": {},
   "outputs": [
    {
     "name": "stdout",
     "output_type": "stream",
     "text": [
      "meow!\n"
     ]
    }
   ],
   "source": [
    "x = my_cat.Feed()"
   ]
  },
  {
   "cell_type": "code",
   "execution_count": null,
   "id": "d8ae572d-0009-4f9d-baaf-70deb85b6a79",
   "metadata": {},
   "outputs": [],
   "source": [
    "class Human:\n",
    "    def __init__(self, name, age, gender=None):\n",
    "        self.name = name\n",
    "        self.age = age\n",
    "        self.gender = gender\n",
    "        \n",
    "    def get_name(self):\n",
    "        return self.name\n",
    "    \n",
    "    def can_vote(self):\n",
    "        return self.age >= 18\n",
    "    \n",
    "    def is_retired(self):\n",
    "        return self.age >= 65 if self.gender == 'M' else self.age >= 63\n",
    "    \n",
    "    def rename(self, new_name):\n",
    "        self.name = new_name"
   ]
  },
  {
   "cell_type": "code",
   "execution_count": null,
   "id": "47824d7f-f35c-4b12-91cf-805aec311816",
   "metadata": {},
   "outputs": [],
   "source": [
    "person1 = Human('Maria', 10)"
   ]
  },
  {
   "cell_type": "code",
   "execution_count": null,
   "id": "ad3a13c1-cb90-4160-a8d9-36576cf51ec4",
   "metadata": {},
   "outputs": [],
   "source": [
    "person1.get_name()"
   ]
  },
  {
   "cell_type": "code",
   "execution_count": null,
   "id": "04c4eda1-b3ce-4457-9bb5-8564875b3ed7",
   "metadata": {},
   "outputs": [],
   "source": [
    "person1.can_vote()"
   ]
  },
  {
   "cell_type": "code",
   "execution_count": null,
   "id": "80a43a0a-89e4-43af-921f-8e6edd630186",
   "metadata": {},
   "outputs": [],
   "source": []
  },
  {
   "cell_type": "markdown",
   "id": "ec7cff68-2369-4478-be62-02732a68fccf",
   "metadata": {},
   "source": [
    "### Methods"
   ]
  },
  {
   "cell_type": "code",
   "execution_count": null,
   "id": "3559cd9b-b489-401b-a36c-24fa33f53042",
   "metadata": {
    "collapsed": true,
    "jupyter": {
     "outputs_hidden": true
    },
    "tags": []
   },
   "outputs": [],
   "source": [
    "class Square:\n",
    "\n",
    "    def __init__(self, length, width):\n",
    "        self.length = length\n",
    "        self.width = width\n",
    "        self.area = self.calculate_area()\n",
    "\n",
    "    def calculate_area(self):\n",
    "        return self.length * self.width\n"
   ]
  },
  {
   "cell_type": "code",
   "execution_count": null,
   "id": "3463b585-5050-4d24-9cb6-772cc24cbfca",
   "metadata": {
    "collapsed": true,
    "jupyter": {
     "outputs_hidden": true
    },
    "tags": []
   },
   "outputs": [],
   "source": [
    "my_square = Square(2,4)\n",
    "\n",
    "my_square.area"
   ]
  },
  {
   "cell_type": "markdown",
   "id": "cca0d7a7-97ab-48a5-a53f-e68bfb355137",
   "metadata": {},
   "source": [
    "### Class atributes"
   ]
  },
  {
   "cell_type": "code",
   "execution_count": 67,
   "id": "c049740e-4638-4257-8fe6-49e0f63a3f1d",
   "metadata": {
    "tags": []
   },
   "outputs": [],
   "source": [
    "class Dog:\n",
    "\n",
    "    tricks = []            # mistaken use of a class variable\n",
    "\n",
    "    def __init__(self, name):\n",
    "        self.name = name\n",
    "\n",
    "    def add_trick(self, trick):\n",
    "        self.tricks.append(trick)\n"
   ]
  },
  {
   "cell_type": "code",
   "execution_count": 68,
   "id": "c7d98842-aee8-4dd2-9489-fc51e239e6c1",
   "metadata": {
    "tags": []
   },
   "outputs": [],
   "source": [
    "d = Dog('Fido')\n",
    "e = Dog('Buddy')"
   ]
  },
  {
   "cell_type": "code",
   "execution_count": 69,
   "id": "fe0c4171-b416-496f-807b-92ce7e299dc8",
   "metadata": {
    "tags": []
   },
   "outputs": [],
   "source": [
    "d.add_trick('roll over')\n",
    "e.add_trick('play dead')"
   ]
  },
  {
   "cell_type": "code",
   "execution_count": 70,
   "id": "59954b7c-2d2e-498e-906c-1d799af1c49a",
   "metadata": {
    "tags": []
   },
   "outputs": [
    {
     "data": {
      "text/plain": [
       "['roll over', 'play dead']"
      ]
     },
     "execution_count": 70,
     "metadata": {},
     "output_type": "execute_result"
    }
   ],
   "source": [
    "d.tricks"
   ]
  },
  {
   "cell_type": "markdown",
   "id": "57a1b7f0-2d36-4b81-9c5a-0fe3c856f2b7",
   "metadata": {},
   "source": [
    "### Self"
   ]
  },
  {
   "cell_type": "code",
   "execution_count": null,
   "id": "730fd7a4-1b40-4036-90c2-19a7ed347a7d",
   "metadata": {
    "collapsed": true,
    "jupyter": {
     "outputs_hidden": true
    },
    "tags": []
   },
   "outputs": [],
   "source": [
    "my_square.calculate_area()"
   ]
  },
  {
   "cell_type": "code",
   "execution_count": null,
   "id": "b45e9eec-bc92-47a9-b5f6-366cf6e5cc64",
   "metadata": {
    "collapsed": true,
    "jupyter": {
     "outputs_hidden": true
    },
    "tags": []
   },
   "outputs": [],
   "source": [
    "Square.calculate_area(my_square)"
   ]
  },
  {
   "cell_type": "markdown",
   "id": "59ee2727-1eb4-4c29-bde0-7a5341ada1f4",
   "metadata": {},
   "source": [
    "### Private variables"
   ]
  },
  {
   "cell_type": "code",
   "execution_count": null,
   "id": "5d3cabfa-2d9d-458a-a03a-55cb916700a1",
   "metadata": {
    "collapsed": true,
    "jupyter": {
     "outputs_hidden": true
    },
    "tags": []
   },
   "outputs": [],
   "source": [
    "class Foo:\n",
    "\n",
    "    __count = 0\n",
    "\n",
    "    def __init__(self, name):\n",
    "        Foo.__count += 1 #self.__count\n",
    "        self._name = name\n",
    "\n",
    "    def say_hello(self):\n",
    "        print(f'Hello World, I am {self._name}!')\n",
    "\n",
    "    def get_count(self):\n",
    "        return self.__count"
   ]
  },
  {
   "cell_type": "code",
   "execution_count": null,
   "id": "97568f2e-8eb4-48b3-bc9d-161db74beeac",
   "metadata": {
    "collapsed": true,
    "jupyter": {
     "outputs_hidden": true
    },
    "tags": []
   },
   "outputs": [],
   "source": [
    "f1 = Foo('Vasya')\n",
    "f2 = Foo('Petya')"
   ]
  },
  {
   "cell_type": "code",
   "execution_count": null,
   "id": "22069fde-69aa-4b93-8286-0f3e04b8bd6a",
   "metadata": {
    "collapsed": true,
    "jupyter": {
     "outputs_hidden": true
    },
    "tags": []
   },
   "outputs": [],
   "source": [
    "f1.__count"
   ]
  },
  {
   "cell_type": "code",
   "execution_count": null,
   "id": "001dc205-52bf-4615-b7c7-7c36102642b8",
   "metadata": {
    "collapsed": true,
    "jupyter": {
     "outputs_hidden": true
    },
    "tags": []
   },
   "outputs": [],
   "source": [
    "f1.get_count()"
   ]
  },
  {
   "cell_type": "code",
   "execution_count": null,
   "id": "ec9e3155-cd82-4b21-8f2b-de3f9a5d7346",
   "metadata": {
    "collapsed": true,
    "jupyter": {
     "outputs_hidden": true
    },
    "tags": []
   },
   "outputs": [],
   "source": [
    "Foo.__dict__"
   ]
  },
  {
   "cell_type": "code",
   "execution_count": null,
   "id": "04cb9d56-ff3f-4b46-89e9-f06c700085ec",
   "metadata": {
    "collapsed": true,
    "jupyter": {
     "outputs_hidden": true
    },
    "tags": []
   },
   "outputs": [],
   "source": [
    "f1.__dict__"
   ]
  },
  {
   "cell_type": "code",
   "execution_count": null,
   "id": "24fdd860-f19c-4f5e-abfa-fa938fe5da80",
   "metadata": {
    "collapsed": true,
    "jupyter": {
     "outputs_hidden": true
    },
    "tags": []
   },
   "outputs": [],
   "source": [
    "f1.say_hello()"
   ]
  },
  {
   "cell_type": "code",
   "execution_count": null,
   "id": "b55bb0f3-d5f0-4d38-b14c-3a1302349592",
   "metadata": {
    "collapsed": true,
    "jupyter": {
     "outputs_hidden": true
    },
    "tags": []
   },
   "outputs": [],
   "source": [
    "Foo.say_hello(foo)"
   ]
  },
  {
   "cell_type": "markdown",
   "id": "c4c610c5-4ee9-48ec-9b01-a903bfe4042b",
   "metadata": {},
   "source": [
    "### Paradigms"
   ]
  },
  {
   "cell_type": "markdown",
   "id": "3ab22923-1d65-42a8-b8d0-adaf4c442b69",
   "metadata": {},
   "source": [
    "Task: given a list of numbers, display a sorted list of unique elements."
   ]
  },
  {
   "cell_type": "code",
   "execution_count": 71,
   "id": "db1ff04f-963b-4698-9888-ff486bb3a5f2",
   "metadata": {
    "tags": []
   },
   "outputs": [],
   "source": [
    "INPUT = [1, 2, 5, 12, 3, 5, 2, 7, 12]\n",
    "\n",
    "def manipulate_pro():\n",
    "    numbers = INPUT[:]        # make a copy\n",
    "    filter_and_sort(numbers)  # sort and filter in-place\n",
    "    for number in numbers:\n",
    "        print(number)         # print every element\n",
    "\n",
    "def filter_and_sort(values):\n",
    "    values.sort()             # sort\n",
    "    previous_value = None\n",
    "    index = 0\n",
    "    while index < len(values): # remove duplicates\n",
    "        value = values[index]\n",
    "        if value == previous_value and index > 0:\n",
    "            values.pop(index)\n",
    "        else:\n",
    "            index += 1\n",
    "            previous_value = value"
   ]
  },
  {
   "cell_type": "code",
   "execution_count": 72,
   "id": "096bee1e-98d8-4c8d-ba63-0d0d40c7f577",
   "metadata": {
    "tags": []
   },
   "outputs": [
    {
     "name": "stdout",
     "output_type": "stream",
     "text": [
      "1\n",
      "2\n",
      "3\n",
      "5\n",
      "7\n",
      "12\n"
     ]
    }
   ],
   "source": [
    "manipulate_pro()"
   ]
  },
  {
   "cell_type": "code",
   "execution_count": null,
   "id": "3b6ebcb6-35ca-4205-9be2-99952f26e0a2",
   "metadata": {
    "collapsed": true,
    "jupyter": {
     "outputs_hidden": true
    }
   },
   "outputs": [],
   "source": []
  },
  {
   "cell_type": "code",
   "execution_count": 73,
   "id": "975329f4-6d9b-4eb6-8933-c91ae0569c7b",
   "metadata": {
    "tags": []
   },
   "outputs": [],
   "source": [
    "def manipulate_fnc(inp_arr):\n",
    "    print('\\n'.join(map(str, sorted(set(inp_arr)))))"
   ]
  },
  {
   "cell_type": "code",
   "execution_count": 74,
   "id": "e4361f2a-d069-466e-9f6b-d03532b692d0",
   "metadata": {
    "tags": []
   },
   "outputs": [
    {
     "name": "stdout",
     "output_type": "stream",
     "text": [
      "1\n",
      "2\n",
      "3\n",
      "5\n",
      "7\n",
      "12\n"
     ]
    }
   ],
   "source": [
    "manipulate_fnc(INPUT)"
   ]
  },
  {
   "cell_type": "code",
   "execution_count": null,
   "id": "fbb7e94e-1eaa-41eb-aa70-14955bbc3e41",
   "metadata": {
    "collapsed": true,
    "jupyter": {
     "outputs_hidden": true
    }
   },
   "outputs": [],
   "source": [
    "INPUT"
   ]
  },
  {
   "cell_type": "code",
   "execution_count": 75,
   "id": "ee210510-7c1f-4f42-9238-f54f0175745d",
   "metadata": {
    "tags": []
   },
   "outputs": [],
   "source": [
    "arr = [1,2,2,3,4,5,4]"
   ]
  },
  {
   "cell_type": "code",
   "execution_count": 77,
   "id": "ddb7517e-1776-41fc-b9e6-47164bc3a847",
   "metadata": {},
   "outputs": [],
   "source": [
    "sarr = set(arr)"
   ]
  },
  {
   "cell_type": "code",
   "execution_count": 78,
   "id": "65689520-719e-4e92-bee6-aedb580a9ddb",
   "metadata": {},
   "outputs": [
    {
     "data": {
      "text/plain": [
       "True"
      ]
     },
     "execution_count": 78,
     "metadata": {},
     "output_type": "execute_result"
    }
   ],
   "source": [
    "5 in arr"
   ]
  },
  {
   "cell_type": "code",
   "execution_count": 79,
   "id": "41c371b6-a5a4-46f8-a594-1be873426a21",
   "metadata": {},
   "outputs": [
    {
     "data": {
      "text/plain": [
       "True"
      ]
     },
     "execution_count": 79,
     "metadata": {},
     "output_type": "execute_result"
    }
   ],
   "source": [
    "5 in sarr"
   ]
  },
  {
   "cell_type": "markdown",
   "id": "d2668b51-f7f4-4e19-9b45-1b3db7e1d32d",
   "metadata": {},
   "source": [
    "### BankAccount class"
   ]
  },
  {
   "cell_type": "code",
   "execution_count": 138,
   "id": "69477de5-5789-4fed-8ef8-9c8126738145",
   "metadata": {},
   "outputs": [],
   "source": [
    "class BankAccount:\n",
    "    def __init__(self, balance=0):\n",
    "        self.balance = balance\n",
    "        \n",
    "    def deposit(self, value):\n",
    "        if type(value) not in {int, float}:\n",
    "            raise ValueError(f'Not an integer')\n",
    "        if value < 0:\n",
    "            raise ValueError(f'The deposit value cannot be negative. Instead got {value}')\n",
    "            \n",
    "        self.balance += value\n",
    "        print(self.balance)\n",
    "        \n",
    "    def withdraw(self, value):\n",
    "        if value < 0:\n",
    "            raise ValueError\n",
    "            \n",
    "        self.balance -= value\n",
    "        print(self.balance)"
   ]
  },
  {
   "cell_type": "code",
   "execution_count": 139,
   "id": "ad60fec6-4fec-489f-bd9d-368f76aeb8e0",
   "metadata": {},
   "outputs": [],
   "source": [
    "balance1 = BankAccount()\n",
    "balance2 = BankAccount(10)"
   ]
  },
  {
   "cell_type": "code",
   "execution_count": 140,
   "id": "4b721a79-231e-4b3f-bdab-74c604a7b467",
   "metadata": {},
   "outputs": [
    {
     "data": {
      "text/plain": [
       "True"
      ]
     },
     "execution_count": 140,
     "metadata": {},
     "output_type": "execute_result"
    }
   ],
   "source": [
    "isinstance(balance1, BankAccount)"
   ]
  },
  {
   "cell_type": "code",
   "execution_count": 141,
   "id": "b6666b57-5e09-4282-aaac-ac174e835678",
   "metadata": {},
   "outputs": [
    {
     "data": {
      "text/plain": [
       "0"
      ]
     },
     "execution_count": 141,
     "metadata": {},
     "output_type": "execute_result"
    }
   ],
   "source": [
    "balance1.balance"
   ]
  },
  {
   "cell_type": "code",
   "execution_count": 142,
   "id": "b2f2719d-f066-4722-bfd5-dfebd5cedb54",
   "metadata": {},
   "outputs": [
    {
     "name": "stdout",
     "output_type": "stream",
     "text": [
      "1.0\n"
     ]
    }
   ],
   "source": [
    "balance1.deposit(1.0)"
   ]
  },
  {
   "cell_type": "code",
   "execution_count": 143,
   "id": "0d591f8c-870b-4d29-a63f-c7ae2c8dd4d2",
   "metadata": {},
   "outputs": [
    {
     "name": "stdout",
     "output_type": "stream",
     "text": [
      "-9.0\n"
     ]
    }
   ],
   "source": [
    "balance1.withdraw(10)"
   ]
  },
  {
   "cell_type": "code",
   "execution_count": null,
   "id": "a2b050e4-c4de-4531-ae04-92ebd75a3d99",
   "metadata": {},
   "outputs": [],
   "source": []
  },
  {
   "cell_type": "code",
   "execution_count": 54,
   "id": "81c72ea5-1802-44e0-92ea-58c4cd50e7b0",
   "metadata": {},
   "outputs": [],
   "source": [
    "class Human:\n",
    "    def __init__(self, name, age):\n",
    "        self.name = name\n",
    "        self.age  = age\n",
    "        \n",
    "    def getName(self):\n",
    "        return self.name\n",
    "    \n",
    "    def canVote(self):\n",
    "        return self.age >= 18\n",
    "#        return True if self.age >= 18 else False\n",
    "#        if self.age >= 18:\n",
    "#            return True\n",
    "#        else:\n",
    "#            return False\n",
    "\n",
    "    def isRetired(self):\n",
    "        return self.age >= 65\n",
    "    \n",
    "    def rename(self, new_name):\n",
    "        self.name = new_name"
   ]
  },
  {
   "cell_type": "code",
   "execution_count": 55,
   "id": "3348af8e-3892-4322-806c-24eab6102508",
   "metadata": {},
   "outputs": [],
   "source": [
    "person1 = Human('Ana', 17)"
   ]
  },
  {
   "cell_type": "code",
   "execution_count": 56,
   "id": "145bf300-5264-4d97-bf95-c4bb7415df05",
   "metadata": {},
   "outputs": [
    {
     "data": {
      "text/plain": [
       "'Ana'"
      ]
     },
     "execution_count": 56,
     "metadata": {},
     "output_type": "execute_result"
    }
   ],
   "source": [
    "person1.getName()"
   ]
  },
  {
   "cell_type": "code",
   "execution_count": 57,
   "id": "a683ba7d-4257-4c12-8cde-0d8cd2ec9db7",
   "metadata": {},
   "outputs": [],
   "source": [
    "person1.rename('Kira')"
   ]
  },
  {
   "cell_type": "code",
   "execution_count": 58,
   "id": "1d119d39-1c7b-4534-b7b6-f04cb5b353f9",
   "metadata": {},
   "outputs": [
    {
     "data": {
      "text/plain": [
       "'Kira'"
      ]
     },
     "execution_count": 58,
     "metadata": {},
     "output_type": "execute_result"
    }
   ],
   "source": [
    "person1.getName()"
   ]
  },
  {
   "cell_type": "code",
   "execution_count": 59,
   "id": "4c694ede-e6d2-48b9-804a-d64383a36872",
   "metadata": {},
   "outputs": [
    {
     "name": "stdin",
     "output_type": "stream",
     "text": [
      " Peter\n",
      " 24\n"
     ]
    }
   ],
   "source": [
    "name = input()\n",
    "age = input()"
   ]
  },
  {
   "cell_type": "code",
   "execution_count": 60,
   "id": "72ab2f8f-c748-442a-a8e8-9ae0b7e85b29",
   "metadata": {},
   "outputs": [],
   "source": [
    "person2 = Human(name, age)"
   ]
  },
  {
   "cell_type": "code",
   "execution_count": 61,
   "id": "cb00a61a-799c-4542-9edb-d5feeb0e74c9",
   "metadata": {},
   "outputs": [
    {
     "data": {
      "text/plain": [
       "'Peter'"
      ]
     },
     "execution_count": 61,
     "metadata": {},
     "output_type": "execute_result"
    }
   ],
   "source": [
    "person2.getName()"
   ]
  },
  {
   "cell_type": "code",
   "execution_count": null,
   "id": "df332409-bbf6-4152-9afa-5087ad45beb6",
   "metadata": {},
   "outputs": [],
   "source": []
  },
  {
   "cell_type": "code",
   "execution_count": 121,
   "id": "d0c1adc4-eff6-4797-ac11-b4c02bfddd19",
   "metadata": {},
   "outputs": [],
   "source": [
    "class Cat:\n",
    "    cat_counter = 0\n",
    "    \n",
    "    def __init__(self, mood=0, hungry=0, energy=0):\n",
    "        self.mood = mood\n",
    "        self.hungry = hungry\n",
    "        self.energy = energy\n",
    "        Cat.cat_counter += 1\n",
    "        \n",
    "    def meow(self):\n",
    "        print('meow!!!!!!!!')\n",
    "    \n",
    "    def sleep(self):\n",
    "        self.energy += 1\n",
    "        self.hungry += 1\n",
    "        \n",
    "    def play(self):\n",
    "        self.mood += 1\n",
    "        self.energy -= 1\n",
    "        self.meow()\n",
    "        \n",
    "    def feed(self):\n",
    "        self.hungry -= 1\n",
    "        self.mood += 1\n",
    "        self.meow()"
   ]
  },
  {
   "cell_type": "code",
   "execution_count": 122,
   "id": "0923fbce-91b4-4066-bea3-4bfc2c412327",
   "metadata": {},
   "outputs": [],
   "source": [
    "cat_lilly = Cat(1,2,3)"
   ]
  },
  {
   "cell_type": "code",
   "execution_count": 124,
   "id": "9a47e583-8034-4e7e-b2b8-0b6762b03e4c",
   "metadata": {},
   "outputs": [],
   "source": [
    "cat_kitty = Cat(1,2,3)"
   ]
  },
  {
   "cell_type": "code",
   "execution_count": 125,
   "id": "58702c11-346b-4840-b339-bdb2ea949e7e",
   "metadata": {},
   "outputs": [
    {
     "data": {
      "text/plain": [
       "2"
      ]
     },
     "execution_count": 125,
     "metadata": {},
     "output_type": "execute_result"
    }
   ],
   "source": [
    "Cat.cat_counter"
   ]
  },
  {
   "cell_type": "code",
   "execution_count": 126,
   "id": "949e867e-929f-4723-ac60-03a6ec2c7c1a",
   "metadata": {},
   "outputs": [
    {
     "data": {
      "text/plain": [
       "2"
      ]
     },
     "execution_count": 126,
     "metadata": {},
     "output_type": "execute_result"
    }
   ],
   "source": [
    "cat_kitty.cat_counter"
   ]
  },
  {
   "cell_type": "code",
   "execution_count": 127,
   "id": "22512ade-c507-421e-9636-7acaf89b8fdc",
   "metadata": {},
   "outputs": [
    {
     "data": {
      "text/plain": [
       "2"
      ]
     },
     "execution_count": 127,
     "metadata": {},
     "output_type": "execute_result"
    }
   ],
   "source": [
    "cat_lilly.cat_counter"
   ]
  },
  {
   "cell_type": "code",
   "execution_count": null,
   "id": "d64ec502-427c-4ee2-b2f5-f5c046ddfd7f",
   "metadata": {},
   "outputs": [],
   "source": []
  }
 ],
 "metadata": {
  "kernelspec": {
   "display_name": "Python 3 (ipykernel)",
   "language": "python",
   "name": "python3"
  },
  "language_info": {
   "codemirror_mode": {
    "name": "ipython",
    "version": 3
   },
   "file_extension": ".py",
   "mimetype": "text/x-python",
   "name": "python",
   "nbconvert_exporter": "python",
   "pygments_lexer": "ipython3",
   "version": "3.9.7"
  }
 },
 "nbformat": 4,
 "nbformat_minor": 5
}
